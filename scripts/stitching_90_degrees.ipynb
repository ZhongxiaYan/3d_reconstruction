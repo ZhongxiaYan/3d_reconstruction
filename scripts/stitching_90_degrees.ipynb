{
 "cells": [
  {
   "cell_type": "code",
   "execution_count": null,
   "metadata": {},
   "outputs": [],
   "source": [
    "from __future__ import print_function, division\n",
    "import numpy as np\n",
    "import matplotlib.pyplot as plt\n",
    "%matplotlib inline\n",
    "import matplotlib.image as mpimg\n",
    "import cv2\n",
    "\n",
    "import sys, os, itertools, pickle\n",
    "from pprint import pprint\n",
    "\n",
    "from util import *\n",
    "from config import *\n",
    "from putil import *\n",
    "%load_ext autoreload\n",
    "%aimport util\n",
    "%aimport putil\n",
    "%aimport config\n",
    "%autoreload 1"
   ]
  },
  {
   "cell_type": "code",
   "execution_count": null,
   "metadata": {},
   "outputs": [],
   "source": [
    "def next_k(it, k):\n",
    "    return [next(it) for _ in range(k)][-1]\n",
    "\n",
    "def show_img(imgs, figsize=(12, 9)):\n",
    "    if type(imgs) != list:\n",
    "        imgs = [imgs]\n",
    "    plt.figure(figsize=figsize)\n",
    "    alpha = 1\n",
    "    alpha_dec = 1 / len(imgs)\n",
    "    for img in imgs:\n",
    "        plt.imshow(img, alpha=alpha)\n",
    "        alpha -= alpha_dec\n",
    "    plt.axis('off')\n",
    "    plt.show()\n",
    "    \n",
    "def to_homo(x):\n",
    "    for axis, size in enumerate(x.shape):\n",
    "        if size == 2:\n",
    "            break\n",
    "    else:\n",
    "        raise RuntimeError()\n",
    "    ones_shape = list(x.shape)\n",
    "    ones_shape[axis] = 1\n",
    "    return np.concatenate((x, np.ones(ones_shape)), axis=axis)\n",
    "\n",
    "def mult_homo(M, x):\n",
    "    n, d = x.shape\n",
    "    if d == 2:\n",
    "        x = to_homo(x)\n",
    "    output = np.dot(x, M.T)\n",
    "    return output[:, :2] / output[:, 2:3]"
   ]
  },
  {
   "cell_type": "code",
   "execution_count": null,
   "metadata": {},
   "outputs": [],
   "source": [
    "cached_frames_path = Root + 'cached_frames.p'\n",
    "if os.path.exists(cached_frames_path):\n",
    "    frames = load_pickle(cached_frames_path)\n",
    "else:\n",
    "    frames = {}\n",
    "    for serie in 'pool_room', 'cory_breezeway', 'soda_front':\n",
    "        calibrated_dir = Data + serie + '/calibrated/'\n",
    "        videos = [read_video(get_data_path(calibrated_dir, i, name_is_dir=True)) for i in Cam_ids]\n",
    "        k = 200\n",
    "        for cam, video in zip(Cam_ids, videos):\n",
    "            for i, frame in enumerate(video):\n",
    "                if i % k == 0:\n",
    "                    frames.setdefault((serie, i), {})[cam] = np.array(frame)\n",
    "        for video in videos:\n",
    "            video.close()\n",
    "    save_pickle(frames, cached_frames_path)"
   ]
  },
  {
   "cell_type": "code",
   "execution_count": null,
   "metadata": {},
   "outputs": [],
   "source": [
    "cameras = { i : np.load(os.path.join(Calibrations, str(i), 'new_camera_matrix.npy')) for i in Cam_ids }"
   ]
  },
  {
   "cell_type": "code",
   "execution_count": null,
   "metadata": {},
   "outputs": [],
   "source": [
    "I = np.eye(3)\n",
    "z = np.zeros(3)\n",
    "Rts_test = [\n",
    "    (I, z),\n",
    "    (np.array([-I[1], -I[2], I[0]]), z),\n",
    "    (np.array([-I[1], I[2], -I[0]]), z),\n",
    "    (np.array([I[2], -I[0], -I[1]]), z),\n",
    "    (np.array([I[2], I[0], I[1]]), z),\n",
    "    (np.array([I[0], -I[1], -I[2]]), z),\n",
    "]"
   ]
  },
  {
   "cell_type": "code",
   "execution_count": null,
   "metadata": {},
   "outputs": [],
   "source": [
    "f_dict = frames[('soda_front', 800)]\n",
    "fs = [f_dict[cam] for cam in Cam_ids]"
   ]
  },
  {
   "cell_type": "code",
   "execution_count": null,
   "metadata": {},
   "outputs": [],
   "source": [
    "scale = 3\n",
    "p_w, p_h = 360 * scale, 180 * scale\n",
    "px_to_rad = lambda x: x / scale * np.pi / 180\n",
    "\n",
    "weighted_points = {}\n",
    "in_range = lambda x, min_x, max_x: min_x <= x < max_x\n",
    "is_inbound = lambda x, y: (0 <= x < Video_width) and (0 <= y < Video_height)\n",
    "for i in range(p_w):\n",
    "    theta = px_to_rad(i - p_w // 2) \n",
    "    for j in range(p_h):\n",
    "        phi = px_to_rad(j - p_h // 2)\n",
    "        vec = np.array([np.sin(theta) * np.cos(phi), np.sin(phi), np.cos(theta) * np.cos(phi)])\n",
    "\n",
    "        for c, f, (R, t) in zip(Cam_ids, fs, Rts_test):\n",
    "            if R is None or t is None:\n",
    "                continue\n",
    "            x_t, y_t, z_t = np.dot(R, vec)\n",
    "            camera_matrix = cameras[c]\n",
    "            f_x, f_y, _ = np.diag(camera_matrix)\n",
    "            p_x, p_y, _ = camera_matrix[:, 2]\n",
    "            if z_t > 0:\n",
    "                x_f = int(round(x_t / z_t * f_x + p_x))\n",
    "                y_f = int(round(y_t / z_t * f_y + p_y))\n",
    "                if is_inbound(x_f, y_f):\n",
    "                    weight = float(min(x_f, Video_width - x_f - 1, y_f, Video_height - y_f - 1))\n",
    "                    weighted_points.setdefault((j, i), []).append((f[y_f, x_f], weight))\n",
    "                    continue\n",
    "panorama = np.zeros((p_h, p_w, 3), dtype=np.uint8)\n",
    "for (j, i), pixels in weighted_points.items():\n",
    "    total_weight = sum(w for pix, w in pixels)\n",
    "    weighted_pixel = sum(pix * w for pix, w in pixels) / total_weight\n",
    "    panorama[j, i] = weighted_pixel.astype(np.uint8)\n",
    "show_img(panorama)"
   ]
  }
 ],
 "metadata": {
  "kernelspec": {
   "display_name": "Python 2",
   "language": "python",
   "name": "python2"
  },
  "language_info": {
   "codemirror_mode": {
    "name": "ipython",
    "version": 2
   },
   "file_extension": ".py",
   "mimetype": "text/x-python",
   "name": "python",
   "nbconvert_exporter": "python",
   "pygments_lexer": "ipython2",
   "version": "2.7.12"
  }
 },
 "nbformat": 4,
 "nbformat_minor": 2
}
