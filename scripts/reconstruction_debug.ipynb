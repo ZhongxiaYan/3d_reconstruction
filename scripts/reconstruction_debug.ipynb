{
 "cells": [
  {
   "cell_type": "code",
   "execution_count": null,
   "metadata": {},
   "outputs": [],
   "source": [
    "from __future__ import print_function, division\n",
    "import numpy as np\n",
    "import matplotlib.pyplot as plt\n",
    "%matplotlib inline\n",
    "import matplotlib.image as mpimg\n",
    "import cv2\n",
    "\n",
    "import os, itertools, pickle, sys\n",
    "from pprint import pprint\n",
    "\n",
    "from util import *\n",
    "from putil import *\n",
    "from config import *\n",
    "%load_ext autoreload\n",
    "%aimport util\n",
    "%aimport putil\n",
    "%aimport config\n",
    "%autoreload 1"
   ]
  },
  {
   "cell_type": "code",
   "execution_count": null,
   "metadata": {},
   "outputs": [],
   "source": [
    "root_dir = Reconstructions + 'soda_front/2,5_3fps_20s/'"
   ]
  },
  {
   "cell_type": "code",
   "execution_count": null,
   "metadata": {},
   "outputs": [],
   "source": [
    "sys.path.append(Root + 'OpenSfM/')\n",
    "from opensfm import dataset\n",
    "from opensfm import features\n",
    "data = dataset.DataSet(root_dir)"
   ]
  },
  {
   "cell_type": "code",
   "execution_count": null,
   "metadata": {},
   "outputs": [],
   "source": [
    "def show_img(imgs, figsize=(12, 9)):\n",
    "    if type(imgs) != list:\n",
    "        imgs = [imgs]\n",
    "    plt.figure(figsize=figsize)\n",
    "    alpha = 1\n",
    "    alpha_dec = 1 / len(imgs)\n",
    "    for img in imgs:\n",
    "        plt.imshow(img, alpha=alpha)\n",
    "        alpha -= alpha_dec\n",
    "    plt.axis('off')\n",
    "    plt.show()"
   ]
  },
  {
   "cell_type": "code",
   "execution_count": null,
   "metadata": {},
   "outputs": [],
   "source": [
    "cv2.DMatch(0, 0, 0)"
   ]
  },
  {
   "cell_type": "code",
   "execution_count": null,
   "metadata": {},
   "outputs": [],
   "source": [
    "def pts_to_kps(pts):\n",
    "    pts[:, :2] = np.round(features.denormalized_image_coordinates(pts[:, :2], V_w, V_h)).astype(int)\n",
    "    return [cv2.KeyPoint(x, y, size, angle) for x, y, size, angle in pts]\n",
    "\n",
    "for image1 in data.images():\n",
    "    if image1.startswith('A002'):\n",
    "        matches = data.load_matches(image1)\n",
    "        pts1, desc1, _ = data.load_features(image1)\n",
    "        kp1 = pts_to_kps(pts1)\n",
    "        frame1 = data.image_as_array(image1)\n",
    "        for image2, matches12 in matches.items():\n",
    "            if image2.startswith('A005') and len(matches12) > 0:\n",
    "                print(image1, image2, len(matches12))\n",
    "                \n",
    "                pts2, desc2, _ = data.load_features(image2)\n",
    "                kp2 = pts_to_kps(pts2)\n",
    "                frame2 = data.image_as_array(image2)\n",
    "                dmatches = [cv2.DMatch(ix1, ix2, 0) for ix1, ix2 in matches12]\n",
    "                side_by_side = cv2.drawMatches(\n",
    "                    frame1, kp1,\n",
    "                    frame2, kp2,\n",
    "                    dmatches,\n",
    "                    None,\n",
    "                    matchesMask=None,\n",
    "                    matchColor=(0, 255, 0),\n",
    "                    singlePointColor=(255, 0, 0),\n",
    "                    flags=cv2.DRAW_MATCHES_FLAGS_DEFAULT | cv2.DRAW_MATCHES_FLAGS_NOT_DRAW_SINGLE_POINTS\n",
    "                )\n",
    "                show_img(side_by_side, figsize=(24, 18))"
   ]
  },
  {
   "cell_type": "code",
   "execution_count": null,
   "metadata": {},
   "outputs": [],
   "source": []
  }
 ],
 "metadata": {
  "kernelspec": {
   "display_name": "Python 2",
   "language": "python",
   "name": "python2"
  },
  "language_info": {
   "codemirror_mode": {
    "name": "ipython",
    "version": 2
   },
   "file_extension": ".py",
   "mimetype": "text/x-python",
   "name": "python",
   "nbconvert_exporter": "python",
   "pygments_lexer": "ipython2",
   "version": "2.7.12"
  }
 },
 "nbformat": 4,
 "nbformat_minor": 2
}
