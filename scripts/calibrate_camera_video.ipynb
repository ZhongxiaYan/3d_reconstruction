{
 "cells": [
  {
   "cell_type": "code",
   "execution_count": null,
   "metadata": {},
   "outputs": [],
   "source": [
    "from __future__ import print_function, division\n",
    "import numpy as np\n",
    "import matplotlib.pyplot as plt\n",
    "%matplotlib inline\n",
    "import matplotlib.image as mpimg\n",
    "import cv2\n",
    "\n",
    "import os, itertools, pickle\n",
    "from pprint import pprint\n",
    "from util import *\n",
    "from putil import *\n",
    "from config import *\n",
    "%load_ext autoreload\n",
    "%aimport util\n",
    "%aimport putil\n",
    "%aimport config\n",
    "%autoreload 1"
   ]
  },
  {
   "cell_type": "code",
   "execution_count": null,
   "metadata": {},
   "outputs": [],
   "source": [
    "# http://opencv-python-tutroals.readthedocs.io/en/latest/py_tutorials/py_calib3d/py_calibration/py_calibration.html\n",
    "# https://docs.opencv.org/2.4.2/modules/calib3d/doc/camera_calibration_and_3d_reconstruction.html\n",
    "\n",
    "def get_chessboard(frame_paths, board_shape=(7, 9), min_interval=5, draw_visual=False):\n",
    "    clahe = cv2.createCLAHE(clipLimit=2.0, tileGridSize=(8, 8))\n",
    "\n",
    "    w, h = board_shape\n",
    "    objp = np.zeros((w * h, 3), np.float32)\n",
    "    objp[:, :2] = np.mgrid[:w, :h].T.reshape(-1, 2)\n",
    "\n",
    "    point_dict = {} # maps frame_path to (3d point in real world space, 2d point in image plane)\n",
    "    prev_key = -min_interval\n",
    "    for frame_path in frame_paths:\n",
    "        key = int(frame_path.split('_')[-1].rstrip('.jpg'))\n",
    "        if key - prev_key < min_interval:\n",
    "            remove(frame_path)\n",
    "            continue\n",
    "        if not os.path.exists(frame_path):\n",
    "            continue\n",
    "        img = cv2.imread(frame_path)\n",
    "        gray = clahe.apply(cv2.cvtColor(img, cv2.COLOR_BGR2GRAY))\n",
    "\n",
    "        ret, corners = cv2.findChessboardCorners(gray, (w, h))\n",
    "        if ret:\n",
    "            criteria = (cv2.TERM_CRITERIA_EPS + cv2.TERM_CRITERIA_MAX_ITER, 30, 0.001)\n",
    "            cv2.cornerSubPix(gray, corners, (11, 11), (-1, -1), criteria)\n",
    "            if draw_visual:\n",
    "                vis_dir = make_dir(os.path.dirname(frame_path) + '/visual/')\n",
    "                vis_path = vis_dir + get_name(frame_path, ext=True)\n",
    "                if not os.path.exists(vis_path):\n",
    "                    cv2.drawChessboardCorners(img, board_shape, corners, ret)\n",
    "                    cv2.imwrite(vis_path, img)\n",
    "            \n",
    "            print(frame_path)\n",
    "            point_dict[frame_path] = (objp, corners)\n",
    "            prev_key = key\n",
    "        else:\n",
    "            print('no', frame_path)\n",
    "            remove(frame_path)\n",
    "    return point_dict\n",
    "\n",
    "def filter_nth(matrix, n):\n",
    "    return np.array(matrix[::n])"
   ]
  },
  {
   "cell_type": "markdown",
   "metadata": {},
   "source": [
    "# Generate and Select Frames"
   ]
  },
  {
   "cell_type": "code",
   "execution_count": null,
   "metadata": {
    "scrolled": false
   },
   "outputs": [],
   "source": [
    "for camera_i in [3]:\n",
    "    print('camera', camera_i)\n",
    "    camera_dir = Calibrations + '%s/' % camera_i\n",
    "    video_dir = camera_dir + 'video/'\n",
    "    \n",
    "    full_point_dict = {}\n",
    "    for video_name, video_path in list_dir(video_dir, 'mp4', return_name=True):\n",
    "        record_path = video_path + '.records'\n",
    "        print('video', video_path)\n",
    "        if os.path.exists(record_path):\n",
    "            print('loading saved points')\n",
    "            point_dict = load_pickle(record_path)\n",
    "        else:\n",
    "            print('reading')\n",
    "            video_name_dir = video_dir + video_name + '/'\n",
    "            if not os.path.exists(video_name_dir):\n",
    "                video_to_frames(video_path, video_name_dir, nth=5)\n",
    "            frame_paths = list_dir(video_name_dir, 'jpg')\n",
    "            print('finding points on chessboard for %s frames' % len(frame_paths))\n",
    "            board_shape = (6, 9) if camera_i == 5 and video_name == 'GOPR0073' else (7, 9)\n",
    "            point_dict = get_chessboard(frame_paths, board_shape=board_shape, min_interval=1, draw_visual=True)\n",
    "\n",
    "            while len(point_dict) != len(frame_paths):\n",
    "                try: x = input() # input after removing unnecessary images\n",
    "                except SyntaxError: break\n",
    "                    \n",
    "            remaining_paths = set(list_dir(video_name_dir, 'jpg'))\n",
    "            point_dict = { path : point_dict[path] for path in remaining_paths }\n",
    "            save_pickle(point_dict, record_path)\n",
    "        full_point_dict.update(point_dict)\n",
    "    print('found %s matches for camera' % len(full_point_dict))\n",
    "    selected_dir = video_dir + 'selected/'\n",
    "    selected_records = video_dir + 'selected.records'\n",
    "    full_selected_paths = { (selected_dir + get_name(path, ext=True)) : path for path in full_point_dict }\n",
    "    if not os.path.exists(selected_dir):\n",
    "        make_dir(selected_dir)\n",
    "        for p in set(full_selected_paths):\n",
    "            shutil.copy(full_selected_paths[p], p)\n",
    "    selected_point_dict = { p : full_point_dict[full_selected_paths[p]] for p in list_dir(selected_dir, 'jpg') }\n",
    "    save_pickle(selected_point_dict, selected_records)\n",
    "    print('keeping %s matches for camera' % len(selected_point_dict))"
   ]
  },
  {
   "cell_type": "markdown",
   "metadata": {},
   "source": [
    "# Optimize Params "
   ]
  },
  {
   "cell_type": "code",
   "execution_count": null,
   "metadata": {},
   "outputs": [],
   "source": [
    "for camera_i in [2]:\n",
    "    print('camera', camera_i)\n",
    "    camera_dir = Calibrations + '%s/' % camera_i\n",
    "    video_dir = camera_dir + 'video/'\n",
    "    \n",
    "    calibration = load_calibration(camera_i)\n",
    "    if calibration:\n",
    "        print('already calibrated')\n",
    "        camera_matrix, dist_coef, new_camera_matrix = calibration\n",
    "        rvecs, tvecs = load_rt_vecs(camera_i)\n",
    "    else:\n",
    "        full_point_dict = load_pickle(video_dir + 'selected.records')\n",
    "        print('%s matches for camera' % len(full_point_dict))\n",
    "        full_point_list = sorted(full_point_dict.items())\n",
    "        object_points, image_points = zip(*(points for path, points in full_point_list))\n",
    "        ret, camera_matrix, dist_coef, rvecs, tvecs = cv2.calibrateCamera(\n",
    "            object_points, image_points, \n",
    "            (V_w, V_h), None, None,\n",
    "            flags=cv2.CALIB_RATIONAL_MODEL\n",
    "        )\n",
    "        \n",
    "        print('getting new camera matrix')\n",
    "        new_camera_matrix, roi = cv2.getOptimalNewCameraMatrix(camera_matrix, dist_coef, (V_w, V_h), 0, centerPrincipalPoint=1)\n",
    "        if not any(roi):\n",
    "            print('invalid calibration; zeros for roi')\n",
    "            continue\n",
    "        save_calibration(camera_i, camera_matrix, dist_coef, new_camera_matrix, rt_vecs=(rvecs, tvecs))\n",
    "        print('generated new camera matrix')\n",
    "        \n",
    "    errors = {}\n",
    "    for i, (path, (object_pt, image_pt)) in enumerate(full_point_list):\n",
    "        image_points2, _ = cv2.projectPoints(object_pt, rvecs[i], tvecs[i], camera_matrix, dist_coef)\n",
    "        error = cv2.norm(image_pt, image_points2, cv2.NORM_L2) / len(image_points2)\n",
    "        errors[path] = error\n",
    "    err_vals = errors.values()\n",
    "    err_cutoff = sorted(err_vals)[int(len(err_vals) * 0.9)]\n",
    "    pprint({ p : v for p, v in errors.items() if v > err_cutoff })\n",
    "    \n",
    "    print('Errors: mean=%s max=%s min=%s' % (np.mean(err_vals), np.max(err_vals), np.min(err_vals)))"
   ]
  },
  {
   "cell_type": "markdown",
   "metadata": {},
   "source": [
    "# Alternative"
   ]
  },
  {
   "cell_type": "code",
   "execution_count": null,
   "metadata": {},
   "outputs": [],
   "source": [
    "def get_chessboard(frame_paths, board_shape=(7, 9), draw_visual=False):\n",
    "    clahe = cv2.createCLAHE(clipLimit=2.0, tileGridSize=(8, 8))\n",
    "\n",
    "    w, h = board_shape\n",
    "    objp = np.zeros((w * h, 3), np.float32)\n",
    "    objp[:, :2] = np.mgrid[:w, :h].T.reshape(-1, 2)\n",
    "\n",
    "    point_dict = {} # maps frame_path to (3d point in real world space, 2d point in image plane)\n",
    "    for frame_path in frame_paths:\n",
    "        if not os.path.exists(frame_path):\n",
    "            continue\n",
    "        img = cv2.imread(frame_path)\n",
    "        gray = clahe.apply(cv2.cvtColor(img, cv2.COLOR_BGR2GRAY))\n",
    "\n",
    "        ret, corners = cv2.findChessboardCorners(gray, (w, h))\n",
    "        if ret:\n",
    "            criteria = (cv2.TERM_CRITERIA_EPS + cv2.TERM_CRITERIA_MAX_ITER, 30, 0.001)\n",
    "            cv2.cornerSubPix(gray, corners, (11, 11), (-1, -1), criteria)\n",
    "            if draw_visual:\n",
    "                vis_dir = make_dir(os.path.dirname(frame_path) + '/visual/')\n",
    "                vis_path = vis_dir + get_name(frame_path, ext=True)\n",
    "                if not os.path.exists(vis_path):\n",
    "                    cv2.drawChessboardCorners(img, board_shape, corners, ret)\n",
    "                    cv2.imwrite(vis_path, img)\n",
    "            \n",
    "            print('found', frame_path)\n",
    "            point_dict[frame_path] = (objp, corners)\n",
    "        else:\n",
    "            print('no', frame_path)\n",
    "    return point_dict"
   ]
  },
  {
   "cell_type": "code",
   "execution_count": null,
   "metadata": {},
   "outputs": [],
   "source": [
    "camera_i = 2\n",
    "camera_dir = Calibrations + '%s/' % camera_i\n",
    "video_dir = camera_dir + 'video/'\n",
    "for p in list_dir(video_dir, 'mp4'):\n",
    "    video_to_frames(p, p[:-4], nth=1)"
   ]
  },
  {
   "cell_type": "code",
   "execution_count": null,
   "metadata": {},
   "outputs": [],
   "source": [
    "camera_i = 5\n",
    "camera_dir = Calibrations + '%s/' % camera_i\n",
    "video_dir = camera_dir + 'video/'\n",
    "selected_dir = video_dir + 'selected/'\n",
    "selected_records = video_dir + 'selected.records'\n",
    "if not os.path.exists(selected_records):\n",
    "    frame_paths = list_dir(selected_dir, 'jpg')\n",
    "    other_shape_filter = {\n",
    "        '5/video/selected/GOPR0073' : (6, 9),\n",
    "    }\n",
    "    shapes = {}\n",
    "    for p in frame_paths:\n",
    "        for f, s in other_shape_filter.items():\n",
    "            if f in p:\n",
    "                break\n",
    "        else:\n",
    "            s = (7, 9)\n",
    "        shapes.setdefault(s, []).append(p)\n",
    "    point_dict = {}\n",
    "    for s, paths in shapes.items():\n",
    "        point_dict.update(get_chessboard(paths, board_shape=s, draw_visual=True))\n",
    "    save_pickle(point_dict, selected_records)"
   ]
  },
  {
   "cell_type": "code",
   "execution_count": null,
   "metadata": {},
   "outputs": [],
   "source": [
    "get_chessboard(['/mnt/c/Users/zhong/Desktop/bdd/calibrations/2/video/GOPR0113/GOPR0113_%04d.jpg' % x for x in range(1062, 1075)], board_shape=(7, 9), draw_visual=True)"
   ]
  },
  {
   "cell_type": "code",
   "execution_count": null,
   "metadata": {},
   "outputs": [],
   "source": [
    "camera_i = 5\n",
    "print('camera', camera_i)\n",
    "camera_dir = Calibrations + '%s/' % camera_i\n",
    "video_dir = camera_dir + 'video/'\n",
    "\n",
    "calibration = load_calibration(camera_i)\n",
    "if calibration:\n",
    "    print('already calibrated')\n",
    "    camera_matrix, dist_coef, new_camera_matrix = calibration\n",
    "    rvecs, tvecs = load_rt_vecs(camera_i)\n",
    "else:\n",
    "    full_point_dict = load_pickle(video_dir + 'selected.records')\n",
    "    print('%s matches for camera' % len(full_point_dict))\n",
    "    full_point_list = sorted(full_point_dict.items())\n",
    "    object_points, image_points = zip(*(points for path, points in full_point_list))\n",
    "    ret, camera_matrix, dist_coef, rvecs, tvecs = cv2.calibrateCamera(\n",
    "        object_points, image_points, \n",
    "        (V_w, V_h), None, None,\n",
    "        flags=cv2.CALIB_RATIONAL_MODEL\n",
    "    )\n",
    "\n",
    "    print('getting new camera matrix')\n",
    "    new_camera_matrix, roi = cv2.getOptimalNewCameraMatrix(camera_matrix, dist_coef, (V_w, V_h), 0, centerPrincipalPoint=1)\n",
    "    if not any(roi):\n",
    "        raise RuntimeError('invalid calibration; zeros for roi')\n",
    "    save_calibration(camera_i, camera_matrix, dist_coef, new_camera_matrix, rt_vecs=(rvecs, tvecs))\n",
    "    print('generated new camera matrix')\n",
    "\n",
    "errors = {}\n",
    "for i, (path, (object_pt, image_pt)) in enumerate(full_point_list):\n",
    "    image_points2, _ = cv2.projectPoints(object_pt, rvecs[i], tvecs[i], camera_matrix, dist_coef)\n",
    "    error = cv2.norm(image_pt, image_points2, cv2.NORM_L2) / len(image_points2)\n",
    "    errors[path] = error\n",
    "err_vals = errors.values()\n",
    "err_cutoff = sorted(err_vals)[int(len(err_vals) * 0.9)]\n",
    "pprint({ p : v for p, v in errors.items() if v > err_cutoff })\n",
    "\n",
    "print('Errors: mean=%s max=%s min=%s' % (np.mean(err_vals), np.max(err_vals), np.min(err_vals)))"
   ]
  },
  {
   "cell_type": "markdown",
   "metadata": {},
   "source": [
    "# Test"
   ]
  },
  {
   "cell_type": "code",
   "execution_count": 25,
   "metadata": {},
   "outputs": [
    {
     "name": "stdout",
     "output_type": "stream",
     "text": [
      "done\n"
     ]
    }
   ],
   "source": [
    "for camera_i in [4, 5]:\n",
    "    print('camera', camera_i)\n",
    "    camera_dir = Calibrations + '%s/' % camera_i\n",
    "\n",
    "    test_dir = camera_dir + 'test/'\n",
    "    for v_name, v_path in list_dir(test_dir, 'mp4', return_name=True):\n",
    "        if v_path.endswith('.output.mp4'):\n",
    "            continue\n",
    "        print('testing', v_path)\n",
    "        shell('python undistort.py %s %s %s' % (v_path, camera_i, test_dir + v_name + '.output.mp4'), ignore_error=0)\n",
    "print('done')"
   ]
  },
  {
   "cell_type": "code",
   "execution_count": null,
   "metadata": {},
   "outputs": [],
   "source": [
    "from mpl_toolkits.mplot3d import Axes3D\n",
    "\n",
    "def display_calibration_boards(camera_i):\n",
    "    print('camera', camera_i)\n",
    "    camera_dir = Calibrations + '%s/' % camera_i\n",
    "    video_dir = camera_dir + 'video/'\n",
    "    w, h = 7, 9\n",
    "    objp = np.zeros((w * h, 3), np.float32)\n",
    "    objp[:, :2] = np.mgrid[:w, :h].T.reshape(-1, 2)    \n",
    "    rvecs, tvecs = load_rt_vecs(camera_i)\n",
    "    print('%s images' % len(rvecs))\n",
    "    \n",
    "    def plot(azim=0):\n",
    "        fig = plt.figure(figsize=(15, 15))\n",
    "        ax = fig.add_subplot(111, projection='3d')\n",
    "\n",
    "        ax.scatter([0], [0], [0], c='black')\n",
    "        for rvec, tvec in zip(rvecs, tvecs):\n",
    "            R, _ = cv2.Rodrigues(rvec)\n",
    "            xs, ys, zs = np.dot(R, objp.T) + tvec\n",
    "            ax.scatter(xs, ys, zs, s=1)\n",
    "        ax.set_xlabel('X')\n",
    "        ax.set_ylabel('Y')\n",
    "        ax.set_zlabel('Z')\n",
    "        ax.view_init(elev=0, azim=azim)\n",
    "        plt.savefig(camera_dir + 'board_locations_%s.jpg' % azim)\n",
    "        plt.show()\n",
    "    plot(0)\n",
    "    plot(90)"
   ]
  },
  {
   "cell_type": "code",
   "execution_count": null,
   "metadata": {},
   "outputs": [],
   "source": [
    "display_calibration_boards(1)"
   ]
  },
  {
   "cell_type": "code",
   "execution_count": null,
   "metadata": {},
   "outputs": [],
   "source": [
    "display_calibration_boards(2)"
   ]
  },
  {
   "cell_type": "code",
   "execution_count": null,
   "metadata": {},
   "outputs": [],
   "source": [
    "display_calibration_boards(3)"
   ]
  },
  {
   "cell_type": "code",
   "execution_count": null,
   "metadata": {},
   "outputs": [],
   "source": [
    "display_calibration_boards(4)"
   ]
  },
  {
   "cell_type": "code",
   "execution_count": 24,
   "metadata": {},
   "outputs": [],
   "source": [
    "display_calibration_boards(5)"
   ]
  },
  {
   "cell_type": "code",
   "execution_count": null,
   "metadata": {},
   "outputs": [],
   "source": [
    "display_calibration_boards(6)"
   ]
  },
  {
   "cell_type": "code",
   "execution_count": null,
   "metadata": {},
   "outputs": [],
   "source": []
  }
 ],
 "metadata": {
  "kernelspec": {
   "display_name": "Python 3",
   "language": "python",
   "name": "python3"
  },
  "language_info": {
   "codemirror_mode": {
    "name": "ipython",
    "version": 2
   },
   "file_extension": ".py",
   "mimetype": "text/x-python",
   "name": "python",
   "nbconvert_exporter": "python",
   "pygments_lexer": "ipython2",
   "version": "2.7.12"
  }
 },
 "nbformat": 4,
 "nbformat_minor": 2
}
