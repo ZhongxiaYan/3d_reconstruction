{
 "cells": [
  {
   "cell_type": "code",
   "execution_count": null,
   "metadata": {},
   "outputs": [],
   "source": [
    "from __future__ import print_function\n",
    "import numpy as np\n",
    "import matplotlib.pyplot as plt\n",
    "%matplotlib inline\n",
    "import matplotlib.image as mpimg\n",
    "import cv2\n",
    "\n",
    "import os, itertools, pickle\n",
    "\n",
    "from util import *\n",
    "from config import *\n",
    "%load_ext autoreload\n",
    "%aimport util\n",
    "%aimport config\n",
    "%autoreload 1"
   ]
  },
  {
   "cell_type": "code",
   "execution_count": null,
   "metadata": {},
   "outputs": [],
   "source": [
    "import time\n",
    "t = time.time()\n",
    "\n",
    "\n",
    "print(time.time() - t)"
   ]
  },
  {
   "cell_type": "code",
   "execution_count": null,
   "metadata": {},
   "outputs": [],
   "source": [
    "import time\n",
    "t = time.time()\n",
    "\n",
    "video = cv2.VideoCapture(get_data_path('pool_room', 1))\n",
    "success, image = video.read()\n",
    "num_fail = 0\n",
    "v_frames = []\n",
    "while num_fail < 3:\n",
    "    if success:\n",
    "        num_fail = 0\n",
    "        v_frames.append(image)\n",
    "    else:\n",
    "        num_fail += 1\n",
    "    success, image = video.read()\n",
    "\n",
    "print(time.time() - t)"
   ]
  }
 ],
 "metadata": {
  "kernelspec": {
   "display_name": "Python 2",
   "language": "python",
   "name": "python2"
  },
  "language_info": {
   "codemirror_mode": {
    "name": "ipython",
    "version": 2
   },
   "file_extension": ".py",
   "mimetype": "text/x-python",
   "name": "python",
   "nbconvert_exporter": "python",
   "pygments_lexer": "ipython2",
   "version": "2.7.12"
  }
 },
 "nbformat": 4,
 "nbformat_minor": 2
}
