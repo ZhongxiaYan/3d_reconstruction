{
 "cells": [
  {
   "cell_type": "code",
   "execution_count": 12,
   "metadata": {},
   "outputs": [
    {
     "name": "stdout",
     "output_type": "stream",
     "text": [
      "The autoreload extension is already loaded. To reload it, use:\n",
      "  %reload_ext autoreload\n"
     ]
    }
   ],
   "source": [
    "from __future__ import print_function\n",
    "import numpy as np\n",
    "import matplotlib.pyplot as plt\n",
    "%matplotlib inline\n",
    "import matplotlib.image as mpimg\n",
    "import cv2\n",
    "\n",
    "import os, itertools, pickle\n",
    "\n",
    "from util import *\n",
    "from config import *\n",
    "%load_ext autoreload\n",
    "%aimport util\n",
    "%aimport config\n",
    "%autoreload 1"
   ]
  },
  {
   "cell_type": "code",
   "execution_count": null,
   "metadata": {},
   "outputs": [],
   "source": [
    "series = ['pool_room', 'staircase', 'lounge', 'courtyard', 'cory_front', 'cory_breezeway', 'soda_front']\n",
    "for serie in series:\n",
    "    processes = []\n",
    "    s_dir = Data + serie + '/'\n",
    "    print('generating', serie)\n",
    "    for c in range(1, Num_cameras + 1):\n",
    "        input_file = get_data_path(serie, c)\n",
    "        name = get_name(input_file)\n",
    "        output_file = s_dir + 'calibrated/' + name + '.mp4'\n",
    "        make_dir(s_dir + 'calibrated/')\n",
    "        if os.path.exists(output_file):\n",
    "            continue\n",
    "        cmd = 'python %sundistort.py %s %s %s' % (Scripts, input_file, Calibrations + str(c) + '/', output_file)\n",
    "        processes.append(shell(cmd, wait=False))\n",
    "    for process in processes:\n",
    "        out, err = process.communicate()\n",
    "        print(out)\n",
    "        print(err)\n",
    "    print('finished', serie)\n",
    "    print()"
   ]
  },
  {
   "cell_type": "code",
   "execution_count": 25,
   "metadata": {},
   "outputs": [
    {
     "name": "stdout",
     "output_type": "stream",
     "text": [
      "generating files for pool_room\n"
     ]
    }
   ],
   "source": [
    "series = ['pool_room']\n",
    "for serie in series:\n",
    "    reconstruction_dir = make_dir(Reconstructions + serie + '/')\n",
    "    print('generating files for', serie)\n",
    "    calibrated_dir = Data + serie + '/calibrated/'\n",
    "    image_dir = make_dir(reconstruction_dir + 'images/')\n",
    "    for c in range(1, Num_cameras + 1):\n",
    "        v_path = get_data_path(calibrated_dir, c, name_is_dir=True)\n",
    "        v_name = get_name(v_path)\n",
    "        video = read_video(v_path)\n",
    "        video_to_frames(v_path, image_dir, nth=3)"
   ]
  },
  {
   "cell_type": "code",
   "execution_count": null,
   "metadata": {},
   "outputs": [],
   "source": [
    "import time\n",
    "t = time.time()\n",
    "\n",
    "video = cv2.VideoCapture(get_data_path('pool_room', 1))\n",
    "success, image = video.read()\n",
    "num_fail = 0\n",
    "v_frames = []\n",
    "while num_fail < 3:\n",
    "    if success:\n",
    "        num_fail = 0\n",
    "        v_frames.append(image)\n",
    "    else:\n",
    "        num_fail += 1\n",
    "    success, image = video.read()\n",
    "\n",
    "print(time.time() - t)"
   ]
  }
 ],
 "metadata": {
  "kernelspec": {
   "display_name": "Python 2",
   "language": "python",
   "name": "python2"
  },
  "language_info": {
   "codemirror_mode": {
    "name": "ipython",
    "version": 2
   },
   "file_extension": ".py",
   "mimetype": "text/x-python",
   "name": "python",
   "nbconvert_exporter": "python",
   "pygments_lexer": "ipython2",
   "version": "2.7.12"
  }
 },
 "nbformat": 4,
 "nbformat_minor": 2
}
